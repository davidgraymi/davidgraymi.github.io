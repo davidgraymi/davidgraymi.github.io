{
 "cells": [
  {
   "cell_type": "code",
   "execution_count": null,
   "metadata": {
    "tags": []
   },
   "outputs": [],
   "source": [
    "''' \n",
    "Program: hw2.ipynb\n",
    "Author: David Gray - Aileen Bui\n",
    "Description: Homework 2\n",
    "Build ID3 decision tree algorithm for classification of mushroom samples.\n",
    "'''\n",
    "\n",
    "import pandas as pd\n",
    "import numpy as np\n",
    "import math"
   ]
  },
  {
   "cell_type": "code",
   "execution_count": null,
   "metadata": {},
   "outputs": [],
   "source": [
    "def getEntropy(D):\n",
    "    entropy = 0\n",
    "    probabilities = (D['class'].value_counts() / D['class'].count()).tolist()\n",
    "    for x in probabilities:\n",
    "        entropy += (-x)*math.log(x,2)\n",
    "    return entropy"
   ]
  },
  {
   "cell_type": "code",
   "execution_count": null,
   "metadata": {},
   "outputs": [],
   "source": [
    "def getInfoGain(D, attr, wholeEntropy):\n",
    "    testEntropy = 0\n",
    "    total = D[attr].count()\n",
    "    for value in D[attr].unique():\n",
    "        count = D[attr][D[attr] == value].count()\n",
    "        testEntropy += (count/total)*(getEntropy(D[D[attr] == value]))\n",
    "    infoGain = wholeEntropy - testEntropy\n",
    "    return infoGain"
   ]
  },
  {
   "cell_type": "code",
   "execution_count": null,
   "metadata": {},
   "outputs": [],
   "source": [
    "def chooseBestAttribute(D):\n",
    "    wholeEntropy = getEntropy(D)\n",
    "    attr_list = D.columns.tolist()\n",
    "    attr_list.remove('class')\n",
    "    infoGain = []\n",
    "    for a in attr_list:\n",
    "        infoGain.append([a, getInfoGain(D, a, wholeEntropy)])\n",
    "    gaindf = pd.DataFrame(infoGain, columns=['Attribute','Info Gain'])\n",
    "    return gaindf['Attribute'][gaindf['Info Gain'] == gaindf['Info Gain'].max()].tolist()[0]"
   ]
  },
  {
   "cell_type": "code",
   "execution_count": null,
   "metadata": {},
   "outputs": [],
   "source": [
    "def generateDT(D):\n",
    "    branches = {}\n",
    "    classes = D['class'].unique().tolist()\n",
    "    if len(classes) == 1: #Handle cases of only single class\n",
    "        return classes[0]\n",
    "    if len(D.columns.tolist()[:-1]) < 1: #Handle cases of no attribute\n",
    "        return D['class'].mode()\n",
    "    node = chooseBestAttribute(D)\n",
    "    node_values = D[node].unique()\n",
    "    node_majority = D.mode()[node][0]\n",
    "    node_values = np.append(node_values,'None')\n",
    "    for value in node_values:\n",
    "        # If the value is missing or not within the values existing in the training data,\n",
    "        # we will treat it the same with the majority value of this node\n",
    "        if value == 'None': \n",
    "            branches['None'] = generateDT(D[D[node] == node_majority])\n",
    "        else:\n",
    "            branches[str(value)] = generateDT(D[D[node] == value])\n",
    "    return (node, branches)"
   ]
  },
  {
   "cell_type": "code",
   "execution_count": null,
   "metadata": {
    "tags": []
   },
   "outputs": [],
   "source": [
    "def classify(dt, test_data):\n",
    "    root = dt[0]\n",
    "    value = test_data[root]\n",
    "    try:\n",
    "        decision_rule = dt[1][value]\n",
    "    except:\n",
    "        decision_rule = dt[1]['None']\n",
    "    if type(decision_rule) != tuple:\n",
    "        return decision_rule\n",
    "    return classify(decision_rule, test_data)"
   ]
  },
  {
   "cell_type": "code",
   "execution_count": null,
   "metadata": {
    "tags": []
   },
   "outputs": [],
   "source": [
    "# Training data provided in Homework requirement\n",
    "training_data = [\n",
    "({'level':'Senior', 'lang':'Java', 'tweets':'no', 'phd':'no'}, False),\n",
    "({'level':'Senior', 'lang':'Java', 'tweets':'no', 'phd':'yes'}, False),\n",
    "({'level':'Mid', 'lang':'Python', 'tweets':'no', 'phd':'no'}, True),\n",
    "({'level':'Junior', 'lang':'Python', 'tweets':'no', 'phd':'no'}, True),\n",
    "({'level':'Junior', 'lang':'R', 'tweets':'yes', 'phd':'no'}, True),\n",
    "({'level':'Junior', 'lang':'R', 'tweets':'yes', 'phd':'yes'}, False),\n",
    "({'level':'Mid', 'lang':'R', 'tweets':'yes', 'phd':'yes'}, True),\n",
    "({'level':'Senior', 'lang':'Python', 'tweets':'no', 'phd':'no'}, False),\n",
    "({'level':'Senior', 'lang':'R', 'tweets':'yes', 'phd':'no'}, True),\n",
    "({'level':'Junior', 'lang':'Python', 'tweets':'yes', 'phd':'no'}, True),\n",
    "({'level':'Senior', 'lang':'Python', 'tweets':'yes', 'phd':'yes'}, True),\n",
    "({'level':'Mid', 'lang':'Python', 'tweets':'no', 'phd':'yes'}, True),\n",
    "({'level':'Mid', 'lang':'Java', 'tweets':'yes', 'phd':'no'}, True),\n",
    "({'level':'Junior', 'lang':'Python', 'tweets':'no', 'phd':'yes'}, False)\n",
    "] \n",
    "\n",
    "# Convert the training data into a dataframe\n",
    "train_df = pd.DataFrame(columns = ['level', 'lang', 'tweets', 'phd', 'class'])\n",
    "for i in range(len(training_data)):\n",
    "    row = training_data[i]\n",
    "    data = row[0]\n",
    "    data['class'] = row[1]\n",
    "    train_df = train_df.append(data, ignore_index = True)\n",
    "\n",
    "# Call the function to generate the decision tree on training data\n",
    "decision_tree = generateDT(train_df)\n",
    "print('Decision tree:\\n', decision_tree)"
   ]
  },
  {
   "cell_type": "code",
   "execution_count": null,
   "metadata": {
    "tags": []
   },
   "outputs": [],
   "source": [
    "# Generate testing data\n",
    "test_data = [\n",
    "    ({'level':'Senior', 'lang':'Java', 'tweets':'no', 'phd':'no'},False),\n",
    "    ({'level':'Senior', 'lang':'Java', 'tweets':'no', 'phd':'missing values'},False),\n",
    "    ({'level':'Mid', 'lang':'Java', 'tweets':'yes', 'phd':'no'}, True),]\n",
    "\n",
    "# Apply the decision tree on test data and output the result\n",
    "for i in range(len(test_data)):\n",
    "    test_input = test_data[i]\n",
    "    actual = test_input[1]\n",
    "    predicted = classify(decision_tree, test_input[0])\n",
    "    print('Test ', i, ':', '\\nActual: ', actual, '\\nPredicted: ', predicted, '\\n---', '\\nCorrect' if actual == predicted else '\\nIncorrect','\\n------------')"
   ]
  },
  {
   "cell_type": "code",
   "execution_count": null,
   "metadata": {
    "tags": []
   },
   "outputs": [],
   "source": [
    "# Get real data as training dataset and generate the new decision\n",
    "original_data = pd.read_csv('mushrooms.csv')\n",
    "real_data = original_data.iloc[:-1000]\n",
    "decision_tree = generateDT(real_data)\n",
    "print('Decision tree:\\n', decision_tree)\n",
    "real_data"
   ]
  },
  {
   "cell_type": "code",
   "execution_count": null,
   "metadata": {
    "tags": []
   },
   "outputs": [],
   "source": [
    "#Genertate testing data for accuracy\n",
    "accuracy_test_data = original_data.iloc[-1000:]\n",
    "accuracy_test_data\n",
    "total_correct_count = 0\n",
    "\n",
    "# Apply the decision tree on test data and output the result\n",
    "for i in range(len(accuracy_test_data)):\n",
    "    test_input = accuracy_test_data.iloc[i]\n",
    "    actual = test_input.loc['class']\n",
    "    predicted = classify(decision_tree, test_input)\n",
    "    if actual == predicted:\n",
    "        total_correct_count += 1\n",
    "print('Correctly predicted: ', total_correct_count, ' out of ', len(accuracy_test_data), 'samples', '\\nAccuracy: ', (total_correct_count/len(accuracy_test_data))*100, '\\n------------')"
   ]
  },
  {
   "cell_type": "code",
   "execution_count": null,
   "metadata": {
    "tags": []
   },
   "outputs": [],
   "source": [
    "# Generate testing data\n",
    "mushroom_test_data = [\n",
    "    ({'cap-shape':'x', 'cap-surface':'y', 'cap-color':'n', 'bruises':'f', 'odor':'n', 'gill-attachment':'f', 'gill-spacing':'w', 'gill-size':'n', 'gill-color':'n', 'stalk-shape':None, 'stalk-root':None, 'stalk-surface-above-ring':None, 'stalk-surface-below-ring':None, 'stalk-color-above-ring':'w', 'stalk-color-below-ring':'w', 'veil-type':None, 'veil-color':None, 'ring-number':'o', 'ring-type':'l', 'spore-print-color':'n', 'population':'n', 'habitat':'g'},'e'),\n",
    "    ({'cap-shape':'f', 'cap-surface':'s', 'cap-color':'w', 'bruises':'f', 'odor':'f', 'gill-attachment':'f', 'gill-spacing':'w', 'gill-size':'n', 'gill-color':'w', 'stalk-shape':'t', 'stalk-root':'b', 'stalk-surface-above-ring':'f', 'stalk-surface-below-ring':'f', 'stalk-color-above-ring':'w', 'stalk-color-below-ring':'w', 'veil-type':'p', 'veil-color':'w', 'ring-number':'o', 'ring-type':None, 'spore-print-color':'w', 'population':'s', 'habitat':'w'},'p')]\n",
    "\n",
    "# Apply the decision tree on test data and output the result\n",
    "for i in range(len(mushroom_test_data)):\n",
    "    test_input = mushroom_test_data[i]\n",
    "    actual = test_input[1]\n",
    "    predicted = classify(decision_tree, test_input[0])\n",
    "    print('Test ', i, ':', '\\nActual: ', actual, '\\nPredicted: ', predicted, '\\n---', '\\nCorrect' if actual == predicted else '\\nIncorrect','\\n------------')"
   ]
  }
 ],
 "metadata": {
  "kernelspec": {
   "display_name": "Python 3",
   "language": "python",
   "name": "python3"
  },
  "language_info": {
   "codemirror_mode": {
    "name": "ipython",
    "version": 3
   },
   "file_extension": ".py",
   "mimetype": "text/x-python",
   "name": "python",
   "nbconvert_exporter": "python",
   "pygments_lexer": "ipython3",
   "version": "3.8.3-final"
  }
 },
 "nbformat": 4,
 "nbformat_minor": 4
}